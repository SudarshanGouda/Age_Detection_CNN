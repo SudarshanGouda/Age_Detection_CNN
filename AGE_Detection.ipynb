{
 "cells": [
  {
   "cell_type": "markdown",
   "id": "6e049a36",
   "metadata": {},
   "source": [
    "# AGE_Detection"
   ]
  },
  {
   "cell_type": "markdown",
   "id": "d2a57ea9",
   "metadata": {},
   "source": [
    "## Importing Library"
   ]
  },
  {
   "cell_type": "code",
   "execution_count": 1,
   "id": "04383b54",
   "metadata": {},
   "outputs": [],
   "source": [
    "from tensorflow.keras.preprocessing.image import ImageDataGenerator\n",
    "import pandas as pd\n",
    "import numpy as np\n",
    "import matplotlib.pyplot as plt"
   ]
  },
  {
   "cell_type": "markdown",
   "id": "92f84d70",
   "metadata": {},
   "source": [
    "## Importing Data"
   ]
  },
  {
   "cell_type": "code",
   "execution_count": 2,
   "id": "0904cffa",
   "metadata": {
    "scrolled": true
   },
   "outputs": [
    {
     "data": {
      "text/html": [
       "<div>\n",
       "<style scoped>\n",
       "    .dataframe tbody tr th:only-of-type {\n",
       "        vertical-align: middle;\n",
       "    }\n",
       "\n",
       "    .dataframe tbody tr th {\n",
       "        vertical-align: top;\n",
       "    }\n",
       "\n",
       "    .dataframe thead th {\n",
       "        text-align: right;\n",
       "    }\n",
       "</style>\n",
       "<table border=\"1\" class=\"dataframe\">\n",
       "  <thead>\n",
       "    <tr style=\"text-align: right;\">\n",
       "      <th></th>\n",
       "      <th>ID</th>\n",
       "      <th>Class</th>\n",
       "    </tr>\n",
       "  </thead>\n",
       "  <tbody>\n",
       "    <tr>\n",
       "      <th>0</th>\n",
       "      <td>377.jpg</td>\n",
       "      <td>MIDDLE</td>\n",
       "    </tr>\n",
       "    <tr>\n",
       "      <th>1</th>\n",
       "      <td>17814.jpg</td>\n",
       "      <td>YOUNG</td>\n",
       "    </tr>\n",
       "    <tr>\n",
       "      <th>2</th>\n",
       "      <td>21283.jpg</td>\n",
       "      <td>MIDDLE</td>\n",
       "    </tr>\n",
       "    <tr>\n",
       "      <th>3</th>\n",
       "      <td>16496.jpg</td>\n",
       "      <td>YOUNG</td>\n",
       "    </tr>\n",
       "    <tr>\n",
       "      <th>4</th>\n",
       "      <td>4487.jpg</td>\n",
       "      <td>MIDDLE</td>\n",
       "    </tr>\n",
       "  </tbody>\n",
       "</table>\n",
       "</div>"
      ],
      "text/plain": [
       "          ID   Class\n",
       "0    377.jpg  MIDDLE\n",
       "1  17814.jpg   YOUNG\n",
       "2  21283.jpg  MIDDLE\n",
       "3  16496.jpg   YOUNG\n",
       "4   4487.jpg  MIDDLE"
      ]
     },
     "execution_count": 2,
     "metadata": {},
     "output_type": "execute_result"
    }
   ],
   "source": [
    "df= pd.read_csv('train.csv',dtype=str)\n",
    "df.head()"
   ]
  },
  {
   "cell_type": "code",
   "execution_count": 3,
   "id": "8a9ac1ff",
   "metadata": {},
   "outputs": [
    {
     "name": "stdout",
     "output_type": "stream",
     "text": [
      "<class 'pandas.core.frame.DataFrame'>\n",
      "RangeIndex: 19906 entries, 0 to 19905\n",
      "Data columns (total 2 columns):\n",
      " #   Column  Non-Null Count  Dtype \n",
      "---  ------  --------------  ----- \n",
      " 0   ID      19906 non-null  object\n",
      " 1   Class   19906 non-null  object\n",
      "dtypes: object(2)\n",
      "memory usage: 311.2+ KB\n"
     ]
    }
   ],
   "source": [
    "df.info()"
   ]
  },
  {
   "cell_type": "code",
   "execution_count": 4,
   "id": "1696544b",
   "metadata": {},
   "outputs": [],
   "source": [
    "train_dir='D:\\\\DATA Science\\\\DEEP LEARNING\\\\CNN\\\\Age_Detection\\\\DataSet\\\\Train'"
   ]
  },
  {
   "cell_type": "code",
   "execution_count": 5,
   "id": "7b787885",
   "metadata": {},
   "outputs": [],
   "source": [
    "datagen=ImageDataGenerator(rescale=1./255.,validation_split=0.25)"
   ]
  },
  {
   "cell_type": "markdown",
   "id": "ad07159d",
   "metadata": {},
   "source": [
    "## Train Data"
   ]
  },
  {
   "cell_type": "code",
   "execution_count": 6,
   "id": "c7b942b3",
   "metadata": {},
   "outputs": [
    {
     "name": "stdout",
     "output_type": "stream",
     "text": [
      "Found 14930 validated image filenames belonging to 3 classes.\n",
      "Found 4976 validated image filenames belonging to 3 classes.\n"
     ]
    }
   ],
   "source": [
    "train_itt=datagen.flow_from_dataframe(dataframe=df,directory=train_dir,batch_size=64,\n",
    "                                     x_col='ID',y_col='Class',target_size=(100, 100),\n",
    "                                     subset='training')\n",
    "val_itt=datagen.flow_from_dataframe(dataframe=df,directory=train_dir,batch_size=64,x_col='ID',y_col='Class'\n",
    "                                   ,target_size=(100,100),subset='validation')"
   ]
  },
  {
   "cell_type": "code",
   "execution_count": 7,
   "id": "0f32115c",
   "metadata": {},
   "outputs": [],
   "source": [
    "from tensorflow.keras import Sequential\n",
    "from tensorflow.keras.layers import Conv2D, MaxPooling2D,Dense,Flatten"
   ]
  },
  {
   "cell_type": "code",
   "execution_count": 8,
   "id": "1c59d7e1",
   "metadata": {},
   "outputs": [],
   "source": [
    "model= Sequential()\n",
    "\n",
    "model.add(Conv2D(32,(3,3),activation='relu',input_shape=(100,100,3)))\n",
    "model.add(MaxPooling2D((2,2)))\n",
    "\n",
    "model.add(Conv2D(64,(3,3),activation='relu'))\n",
    "model.add(MaxPooling2D((2,2)))\n",
    "\n",
    "\n",
    "model.add(Flatten())\n",
    "\n",
    "model.add(Dense(512,activation='relu'))\n",
    "\n",
    "model.add(Dense(3,activation='softmax'))"
   ]
  },
  {
   "cell_type": "code",
   "execution_count": 9,
   "id": "4dbf64f4",
   "metadata": {},
   "outputs": [],
   "source": [
    "#model.compile(optimizer='rmsprop',loss=\"categorical_crossentropy\",metrics=[\"accuracy\"])\n",
    "model.compile(loss='categorical_crossentropy',optimizer='adam',metrics=['accuracy'])"
   ]
  },
  {
   "cell_type": "code",
   "execution_count": 10,
   "id": "2233bdf1",
   "metadata": {
    "scrolled": false
   },
   "outputs": [
    {
     "name": "stdout",
     "output_type": "stream",
     "text": [
      "Epoch 1/6\n",
      "234/234 [==============================] - 823s 4s/step - loss: 0.8861 - accuracy: 0.6344 - val_loss: 0.7742 - val_accuracy: 0.6614\n",
      "Epoch 2/6\n",
      "234/234 [==============================] - 246s 1s/step - loss: 0.7217 - accuracy: 0.6871 - val_loss: 0.7050 - val_accuracy: 0.6889\n",
      "Epoch 3/6\n",
      "234/234 [==============================] - 231s 985ms/step - loss: 0.6498 - accuracy: 0.7176 - val_loss: 0.6672 - val_accuracy: 0.7096\n",
      "Epoch 4/6\n",
      "234/234 [==============================] - 212s 904ms/step - loss: 0.5836 - accuracy: 0.7529 - val_loss: 0.6422 - val_accuracy: 0.7235\n",
      "Epoch 5/6\n",
      "234/234 [==============================] - 210s 898ms/step - loss: 0.4956 - accuracy: 0.7942 - val_loss: 0.6359 - val_accuracy: 0.7245\n",
      "Epoch 6/6\n",
      "234/234 [==============================] - 238s 1s/step - loss: 0.3946 - accuracy: 0.8432 - val_loss: 0.7086 - val_accuracy: 0.7241\n"
     ]
    },
    {
     "data": {
      "text/plain": [
       "<keras.callbacks.History at 0x1c83abd58b0>"
      ]
     },
     "execution_count": 10,
     "metadata": {},
     "output_type": "execute_result"
    }
   ],
   "source": [
    "model.fit(train_itt,validation_data=val_itt,epochs=6)"
   ]
  },
  {
   "cell_type": "code",
   "execution_count": 12,
   "id": "fcd5e480",
   "metadata": {},
   "outputs": [
    {
     "data": {
      "text/plain": [
       "<AxesSubplot:>"
      ]
     },
     "execution_count": 12,
     "metadata": {},
     "output_type": "execute_result"
    },
    {
     "data": {
      "image/png": "[encoded data removed]",
      "text/plain": [
       "<Figure size 432x288 with 1 Axes>"
      ]
     },
     "metadata": {
      "needs_background": "light"
     },
     "output_type": "display_data"
    }
   ],
   "source": [
    "losses=pd.DataFrame(model.history.history)\n",
    "losses.plot()"
   ]
  },
  {
   "cell_type": "code",
   "execution_count": 14,
   "id": "07b63637",
   "metadata": {},
   "outputs": [
    {
     "data": {
      "text/plain": [
       "{'MIDDLE': 0, 'OLD': 1, 'YOUNG': 2}"
      ]
     },
     "execution_count": 14,
     "metadata": {},
     "output_type": "execute_result"
    }
   ],
   "source": [
    "class_label= train_itt.class_indices\n",
    "class_label"
   ]
  }
 ],
 "metadata": {
  "kernelspec": {
   "display_name": "Python 3 (ipykernel)",
   "language": "python",
   "name": "python3"
  },
  "language_info": {
   "codemirror_mode": {
    "name": "ipython",
    "version": 3
   },
   "file_extension": ".py",
   "mimetype": "text/x-python",
   "name": "python",
   "nbconvert_exporter": "python",
   "pygments_lexer": "ipython3",
   "version": "3.9.7"
  }
 },
 "nbformat": 4,
 "nbformat_minor": 5
}
